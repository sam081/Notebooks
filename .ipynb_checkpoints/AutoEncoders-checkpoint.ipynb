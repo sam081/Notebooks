{
 "cells": [
  {
   "cell_type": "markdown",
   "metadata": {},
   "source": [
    "Can find the working copy of this notebook, along with the dataset on the following link<br>\n"
   ]
  },
  {
   "cell_type": "code",
   "execution_count": null,
   "metadata": {
    "_cell_guid": "b1076dfc-b9ad-4769-8c92-a6c4dae69d19",
    "_uuid": "8f2839f25d086af736a60e9eeb907d3b93b6e0e5"
   },
   "outputs": [],
   "source": [
    "import numpy as np\n",
    "import pandas as pd\n",
    "import os\n",
    "from statistics import mean\n",
    "from itertools import islice\n",
    "\n",
    "from torch.utils.data.dataset import Dataset\n",
    "from torch.utils.data.dataloader import DataLoader\n",
    "\n",
    "from torchvision import transforms\n",
    "from torchvision.utils import save_image\n",
    "import torchvision\n",
    "\n",
    "import torch\n",
    "from torch import nn, optim\n",
    "import torch.nn.functional as F\n",
    "\n",
    "import matplotlib.pyplot as plt\n",
    "%matplotlib inline"
   ]
  },
  {
   "cell_type": "code",
   "execution_count": null,
   "metadata": {},
   "outputs": [],
   "source": [
    "print(os.listdir('../input/'))"
   ]
  },
  {
   "cell_type": "code",
   "execution_count": null,
   "metadata": {},
   "outputs": [],
   "source": [
    "# here we will be using Kuzushiji-MNIST dataset which is having 70K images\n",
    "train_labels = np.load('../input/kmnist-train-labels.npz')['arr_0']\n",
    "test_labels = np.load('../input/kmnist-test-labels.npz')['arr_0']\n",
    "\n",
    "train_images = np.load('../input/kmnist-train-imgs.npz')['arr_0']\n",
    "test_images = np.load('../input/kmnist-test-imgs.npz')['arr_0']"
   ]
  },
  {
   "cell_type": "code",
   "execution_count": null,
   "metadata": {},
   "outputs": [],
   "source": [
    "char_df = pd.read_csv('../input/kmnist_classmap.csv')\n",
    "print(char_df)"
   ]
  },
  {
   "cell_type": "code",
   "execution_count": null,
   "metadata": {},
   "outputs": [],
   "source": [
    "classes, count = np.unique(train_labels,return_counts=True)\n",
    "print(classes,'\\n', count)\n",
    "# so the dataset is properly balanced among the classes"
   ]
  },
  {
   "cell_type": "code",
   "execution_count": null,
   "metadata": {},
   "outputs": [],
   "source": [
    "# also lets chech the distribution in the test set.\n",
    "np.unique(test_labels,return_counts=True)"
   ]
  },
  {
   "cell_type": "code",
   "execution_count": null,
   "metadata": {},
   "outputs": [],
   "source": [
    "len(train_images)"
   ]
  },
  {
   "cell_type": "code",
   "execution_count": null,
   "metadata": {},
   "outputs": [],
   "source": [
    "# find the size of the images\n",
    "print(train_images.shape)\n",
    "print(test_images.shape)\n",
    "print(train_labels.shape)\n",
    "print(test_labels.shape)"
   ]
  },
  {
   "cell_type": "code",
   "execution_count": null,
   "metadata": {},
   "outputs": [],
   "source": [
    "# lets also create a visualisation fucntion\n",
    "def plot_images(images, labels,random=False):\n",
    "    if random ==  False:\n",
    "        plt.figure(figsize=(12,12))\n",
    "        for i in range(10):\n",
    "            imgs = images[np.where(labels==i)]\n",
    "            lbls = labels[np.where(labels==i)]\n",
    "            for j in range(10):\n",
    "                plt.subplot(10,10,10*i+j+1)\n",
    "                plt.xticks([])\n",
    "                plt.yticks([])\n",
    "                plt.grid(False)\n",
    "                plt.imshow(imgs[j],cmap=plt.cm.binary)\n",
    "                plt.xlabel(lbls[j])\n",
    "    else:\n",
    "        plt.figure(figsize=(12,12))\n",
    "        for i in range(10):\n",
    "            imgs = images[np.where(labels==i)]\n",
    "            lbls = labels[np.where(labels==i)]\n",
    "            for j in range(10):\n",
    "                plt.subplot(10,10,10*i+j+1)\n",
    "                plt.xticks([]);plt.yticks([])\n",
    "                plt.grid(False)\n",
    "                index = np.random.randint(1, 10)\n",
    "                plt.imshow(imgs[index],cmap=plt.cm.binary)\n",
    "                plt.xlabel(lbls[index])"
   ]
  },
  {
   "cell_type": "code",
   "execution_count": null,
   "metadata": {},
   "outputs": [],
   "source": [
    "plot_images(train_images,train_labels, random=True)"
   ]
  },
  {
   "cell_type": "code",
   "execution_count": null,
   "metadata": {},
   "outputs": [],
   "source": [
    "#plot_images(test_images,test_labels)"
   ]
  },
  {
   "cell_type": "code",
   "execution_count": null,
   "metadata": {},
   "outputs": [],
   "source": [
    "class KMNIST_Dataset(Dataset):\n",
    "    def __init__(self, images, labels, transform=None):\n",
    "        self.images = images\n",
    "        self.labels = labels\n",
    "        self.transform = transform\n",
    "        \n",
    "    def __len__(self):\n",
    "        return (len(self.images))\n",
    "    \n",
    "    def __getitem__(self, index):\n",
    "        image = self.images[index].reshape(28,28,1)\n",
    "        label = self.labels[index]\n",
    "        \n",
    "        if self.transform is not None:\n",
    "            image = self.transform(image)\n",
    "            \n",
    "        return image,label"
   ]
  },
  {
   "cell_type": "code",
   "execution_count": null,
   "metadata": {},
   "outputs": [],
   "source": [
    "transform = transforms.Compose([transforms.ToTensor()])\n",
    "train_dataset = KMNIST_Dataset(train_images, train_labels, transform=transform)"
   ]
  },
  {
   "cell_type": "code",
   "execution_count": null,
   "metadata": {},
   "outputs": [],
   "source": [
    "train_gen = DataLoader(train_dataset, batch_size=16, shuffle=True)\n",
    "train_iter = iter(train_gen)\n",
    "images, labels = next(train_iter)"
   ]
  },
  {
   "cell_type": "code",
   "execution_count": null,
   "metadata": {},
   "outputs": [],
   "source": [
    "print(images.size(),labels.size())"
   ]
  },
  {
   "cell_type": "code",
   "execution_count": null,
   "metadata": {},
   "outputs": [],
   "source": [
    "grid = torchvision.utils.make_grid(images)\n",
    "\n",
    "plt.imshow(grid.numpy().transpose((1, 2, 0)))\n",
    "plt.axis('off')\n",
    "plt.title(labels.numpy());"
   ]
  },
  {
   "cell_type": "code",
   "execution_count": null,
   "metadata": {},
   "outputs": [],
   "source": [
    "class autoencoder(nn.Module):\n",
    "    def __init__(self):\n",
    "        super(autoencoder,self).__init__()\n",
    "        # encoder \n",
    "        self.encoder = nn.Sequential(\n",
    "            nn.Conv2d(1, 32, 3, padding=1),  # b x 28 x 28 x 32     \n",
    "            nn.ReLU(inplace=True),\n",
    "            nn.MaxPool2d(2,2),               # b x 14 x 14 x 32\n",
    "            nn.Conv2d(32, 16, 3, padding=1), # b x 14 x 14 x 16\n",
    "            nn.ReLU(inplace=True),\n",
    "            nn.MaxPool2d(2,2),               # b x 7 x 7 x 16\n",
    "            nn.Conv2d(16, 8, 3, padding=1),  # b x 7 x 7 x 8\n",
    "            nn.ReLU(inplace=True),\n",
    "            nn.MaxPool2d(2,2)                # b x 3 x 3 x 8\n",
    "        )\n",
    "        # decoder\n",
    "        self.decoder = nn.Sequential(\n",
    "            nn.Conv2d(8, 8, 3, padding=1),\n",
    "            nn.ReLU(inplace=True),\n",
    "            nn.Upsample(scale_factor=2),\n",
    "            nn.Conv2d(8, 16, 3, padding=1),\n",
    "            nn.ReLU(inplace=True),\n",
    "            nn.Upsample(scale_factor=2),\n",
    "            nn.Conv2d(16, 32, 3,padding=1),\n",
    "            nn.ReLU(inplace=True),\n",
    "            nn.Upsample(scale_factor=2),\n",
    "            nn.Conv2d(32, 1, 3, padding=3),    # padding = 3, was used to make the input and output of same size\n",
    "            nn.Sigmoid()\n",
    "        )\n",
    "        \n",
    "        \n",
    "    def forward(self, x):\n",
    "        x = self.encoder(x)\n",
    "        x = self.decoder(x)\n",
    "        return x"
   ]
  },
  {
   "cell_type": "code",
   "execution_count": null,
   "metadata": {},
   "outputs": [],
   "source": [
    "epochs = 100\n",
    "lr = 0.001"
   ]
  },
  {
   "cell_type": "code",
   "execution_count": null,
   "metadata": {},
   "outputs": [],
   "source": [
    "def to_img(x):\n",
    "    x = 0.5 * (x + 1)\n",
    "    x = x.clamp(0, 1)\n",
    "    x = x.view(x.size(0), 1, 28, 28)\n",
    "    return x"
   ]
  },
  {
   "cell_type": "code",
   "execution_count": null,
   "metadata": {},
   "outputs": [],
   "source": [
    "model = autoencoder().cuda()\n",
    "criterion = nn.BCELoss()\n",
    "optimizer = torch.optim.Adam(model.parameters(), lr=lr,\n",
    "                             weight_decay=1e-5)\n",
    "losses = []\n",
    "for epoch in range(epochs):\n",
    "    running_loss = 0\n",
    "    for img, _ in train_gen:\n",
    "        img = img.to('cuda')\n",
    "        output = model(img)\n",
    "        optimizer.zero_grad()  \n",
    "        #print(output.shape,img.shape)\n",
    "        loss = criterion(output, img)\n",
    "        running_loss += loss.item()\n",
    "        #losses.append(loss.item())\n",
    "        loss.backward()\n",
    "        optimizer.step()\n",
    "    \n",
    "    print('epoch [{}/{}], loss:{:.4f}'\n",
    "          .format(epoch+1, epochs, running_loss/len(train_gen)))\n",
    "    losses.append(running_loss/len(train_gen))\n",
    "    if epoch % 10 == 0:\n",
    "        pic = to_img(output.cpu().data)\n",
    "        save_image(pic, 'image_{}.png'.format(epoch))\n",
    "\n",
    "torch.save(model.state_dict(), './conv_autoencoder.pth')"
   ]
  },
  {
   "cell_type": "code",
   "execution_count": null,
   "metadata": {},
   "outputs": [],
   "source": [
    "plt.plot(losses)"
   ]
  },
  {
   "cell_type": "code",
   "execution_count": null,
   "metadata": {},
   "outputs": [],
   "source": []
  },
  {
   "cell_type": "code",
   "execution_count": null,
   "metadata": {},
   "outputs": [],
   "source": []
  },
  {
   "cell_type": "code",
   "execution_count": null,
   "metadata": {},
   "outputs": [],
   "source": []
  }
 ],
 "metadata": {
  "kernelspec": {
   "display_name": "Python 3",
   "language": "python",
   "name": "python3"
  },
  "language_info": {
   "codemirror_mode": {
    "name": "ipython",
    "version": 3
   },
   "file_extension": ".py",
   "mimetype": "text/x-python",
   "name": "python",
   "nbconvert_exporter": "python",
   "pygments_lexer": "ipython3",
   "version": "3.6.3"
  }
 },
 "nbformat": 4,
 "nbformat_minor": 2
}
